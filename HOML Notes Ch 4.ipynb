{
 "cells": [
  {
   "cell_type": "markdown",
   "metadata": {},
   "source": [
    "# Hands-On Machine Learning with Scikit-Learn, Keras & TensorFlow, 2nd Edition\n",
    "\n",
    "## by Aurelien Geron\n",
    "\n",
    "### Notes by Melis Tekant\n",
    "\n",
    "## Chapter 4: Training Models"
   ]
  },
  {
   "cell_type": "markdown",
   "metadata": {},
   "source": [
    "Covered in this chapter: Linear Regression (using closed form equation to compute best fit, as well as Gradient Descent), Polynomial Regression (learning curves and regularization techniques to avoid overfitting). "
   ]
  },
  {
   "cell_type": "markdown",
   "metadata": {},
   "source": [
    "Linear Regression:\n",
    "\n",
    "$$\\hat y = \\theta_0 + \\theta_1 X_1 + \\theta_2 X_2 + ... + \\theta_n X_n$$\n",
    "\n",
    "where the intercept $\\theta_0$ is called the bias term and $\\theta_i$'s model parameters.\n",
    "\n",
    "In vectorized form, this equation can be expressed as $\\hat y = \\boldsymbol{\\theta \\cdot x}$, where $\\boldsymbol{\\theta}$ is the parameter vector and $\\boldsymbol{x}$ is the feature vector. \n",
    "\n",
    "$\\boldsymbol{\\theta \\cdot x}$ can equivalently be expressed by $h_{\\boldsymbol{\\theta}}(\\boldsymbol{x})$ where $h_{\\boldsymbol{\\theta}}$ is the hypothesis function.\n",
    "\n",
    "In training the regression model, the aim is to find $\\boldsymbol{\\theta}$ such that the MSE (or another cost function) is minimized. \n",
    "\n",
    "$$MSE(\\boldsymbol{X}, h_{\\theta}) = MSE(\\boldsymbol{\n",
    "\\theta}) = \\frac{1}{m} \\sum_{i=1}^m (\\boldsymbol{\\theta}^T \\boldsymbol{x}^{(i)}-y^{(i)})^2 $$\n",
    "\n",
    "To find $\\boldsymbol{\\theta}$, the normal equation is used: \n",
    "\n",
    "$$\\boldsymbol{\\hat \\theta} = (\\boldsymbol{X^T X})^{-1} \\boldsymbol{X}^T \\boldsymbol{y}. $$"
   ]
  },
  {
   "cell_type": "code",
   "execution_count": null,
   "metadata": {},
   "outputs": [],
   "source": []
  }
 ],
 "metadata": {
  "kernelspec": {
   "display_name": "Python 3",
   "language": "python",
   "name": "python3"
  },
  "language_info": {
   "codemirror_mode": {
    "name": "ipython",
    "version": 3
   },
   "file_extension": ".py",
   "mimetype": "text/x-python",
   "name": "python",
   "nbconvert_exporter": "python",
   "pygments_lexer": "ipython3",
   "version": "3.8.5"
  }
 },
 "nbformat": 4,
 "nbformat_minor": 4
}
