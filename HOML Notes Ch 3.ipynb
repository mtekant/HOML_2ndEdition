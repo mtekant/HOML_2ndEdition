{
 "cells": [
  {
   "cell_type": "markdown",
   "metadata": {},
   "source": [
    "# Hands-On Machine Learning with Scikit-Learn, Keras & TensorFlow, 2nd Edition\n",
    "\n",
    "## by Aurelien Geron\n",
    "\n",
    "### Notes by Melis Tekant"
   ]
  },
  {
   "cell_type": "markdown",
   "metadata": {},
   "source": [
    "## Chapter 3: Classification"
   ]
  },
  {
   "cell_type": "code",
   "execution_count": 22,
   "metadata": {},
   "outputs": [],
   "source": [
    "import pandas as pd\n",
    "import numpy as np\n",
    "pd.plotting.register_matplotlib_converters()\n",
    "import matplotlib as mpl\n",
    "import matplotlib.pyplot as plt\n",
    "from matplotlib import cm\n",
    "%matplotlib inline\n",
    "import seaborn as sns\n",
    "from scipy import stats\n",
    "from sklearn.datasets import fetch_openml\n",
    "from sklearn. linear_model import SGDClassifier"
   ]
  },
  {
   "cell_type": "markdown",
   "metadata": {},
   "source": [
    "In this chapter, classification methods will be discussed, using the MNIST dataset. "
   ]
  },
  {
   "cell_type": "code",
   "execution_count": 5,
   "metadata": {},
   "outputs": [
    {
     "data": {
      "text/plain": [
       "dict_keys(['data', 'target', 'frame', 'categories', 'feature_names', 'target_names', 'DESCR', 'details', 'url'])"
      ]
     },
     "execution_count": 5,
     "metadata": {},
     "output_type": "execute_result"
    }
   ],
   "source": [
    "mnist = fetch_openml('mnist_784',version=1)\n",
    "mnist.keys()"
   ]
  },
  {
   "cell_type": "code",
   "execution_count": 10,
   "metadata": {},
   "outputs": [],
   "source": [
    "# Separating data and target\n",
    "X,y = mnist['data'],mnist['target']"
   ]
  },
  {
   "cell_type": "code",
   "execution_count": 15,
   "metadata": {},
   "outputs": [
    {
     "data": {
      "image/png": "[encoded data removed]",
      "text/plain": [
       "<Figure size 432x288 with 1 Axes>"
      ]
     },
     "metadata": {
      "needs_background": "light"
     },
     "output_type": "display_data"
    }
   ],
   "source": [
    "# Looking at a random image\n",
    "digit = X[10]\n",
    "digit_image = digit.reshape(28,28)\n",
    "plt.imshow(digit_image,cmap=mpl.cm.binary);"
   ]
  },
  {
   "cell_type": "code",
   "execution_count": 19,
   "metadata": {},
   "outputs": [
    {
     "data": {
      "text/plain": [
       "3"
      ]
     },
     "execution_count": 19,
     "metadata": {},
     "output_type": "execute_result"
    }
   ],
   "source": [
    "# Looking at what the label is for this image\n",
    "y.astype('int')[10]"
   ]
  },
  {
   "cell_type": "code",
   "execution_count": 23,
   "metadata": {},
   "outputs": [],
   "source": [
    "# Training and test sets\n",
    "y = y.astype('int')\n",
    "X_train, X_test, y_train, y_test = X[:60000], X[60000:], y[:60000], y[60000:]"
   ]
  },
  {
   "cell_type": "code",
   "execution_count": 37,
   "metadata": {},
   "outputs": [
    {
     "data": {
      "text/plain": [
       "array([False])"
      ]
     },
     "execution_count": 37,
     "metadata": {},
     "output_type": "execute_result"
    }
   ],
   "source": [
    "# Building a binary classifier for the number 5\n",
    "\n",
    "# Setting results to True/False for 5/not-5\n",
    "y_train_5 = (y_train == 5)\n",
    "y_test_5 = (y_test == 5)\n",
    "\n",
    "#Stochastic Gradient Descent Classifier\n",
    "\n",
    "sgd = SGDClassifier(random_state = 42)\n",
    "sgd.fit(X_train,y_train_5)\n",
    "sgd.predict([digit])"
   ]
  },
  {
   "cell_type": "code",
   "execution_count": 38,
   "metadata": {},
   "outputs": [
    {
     "data": {
      "text/plain": [
       "array([ True])"
      ]
     },
     "execution_count": 38,
     "metadata": {},
     "output_type": "execute_result"
    },
    {
     "data": {
      "image/png": "[encoded data removed]",
      "text/plain": [
       "<Figure size 432x288 with 1 Axes>"
      ]
     },
     "metadata": {
      "needs_background": "light"
     },
     "output_type": "display_data"
    }
   ],
   "source": [
    "plt.imshow(X[100].reshape(28,28),cmap=mpl.cm.binary)\n",
    "sgd.predict([X[100]])"
   ]
  },
  {
   "cell_type": "code",
   "execution_count": 39,
   "metadata": {},
   "outputs": [
    {
     "data": {
      "text/plain": [
       "array([0.95035, 0.96035, 0.9604 ])"
      ]
     },
     "execution_count": 39,
     "metadata": {},
     "output_type": "execute_result"
    }
   ],
   "source": [
    "from sklearn.model_selection import cross_val_score\n",
    "\n",
    "cross_val_score(sgd,X_train,y_train_5, cv=3, scoring = 'accuracy')"
   ]
  },
  {
   "cell_type": "code",
   "execution_count": 40,
   "metadata": {},
   "outputs": [],
   "source": [
    "from sklearn.model_selection import cross_val_predict\n",
    "\n",
    "y_train_pred = cross_val_predict(sgd,X_train,y_train_5,cv=3)"
   ]
  },
  {
   "cell_type": "code",
   "execution_count": 41,
   "metadata": {},
   "outputs": [
    {
     "data": {
      "text/plain": [
       "array([[53892,   687],\n",
       "       [ 1891,  3530]])"
      ]
     },
     "execution_count": 41,
     "metadata": {},
     "output_type": "execute_result"
    }
   ],
   "source": [
    "from sklearn.metrics import confusion_matrix\n",
    "\n",
    "confusion_matrix(y_train_5,y_train_pred)"
   ]
  },
  {
   "cell_type": "markdown",
   "metadata": {},
   "source": [
    "Since the percentage of correct idenfitications may be misleading, especially in the case that there are a lot more in one class than the other, the validation score metric does not give an accurate sense of the goodness of fit of the model. We can use the confusion matrix to get more info (shown above), but if we need more compact, single value results, we turn to the following: \n",
    "\n",
    "1. Precision, or the accuracy of positive predictions: TP/(TP+FP)\n",
    "2. Recall = Sensitivity = True positive rate = TP/(TP+FN)\n",
    "\n",
    "where TP = true positive, FP = false positive, and FN = false negative.\n",
    "\n",
    "Combining precision and recall scores, we can define $F_1$ score, the harmonic mean of precision and recall scores. \n",
    "\n",
    "$$F_1 = \\frac{2}{\\frac{1}{precision} +\\frac{1}{recall}} $$\n",
    "\n",
    "Increasing/decreasing precision reduces/increases recall: precision/recall tradeoff. The ideal point for these values is dependent on the desired application."
   ]
  },
  {
   "cell_type": "code",
   "execution_count": 44,
   "metadata": {},
   "outputs": [
    {
     "name": "stdout",
     "output_type": "stream",
     "text": [
      "Precision Score:  0.8370879772350012\n",
      "Recall Score:  0.6511713705958311\n",
      "F1 Score:  0.7325171197343846\n"
     ]
    }
   ],
   "source": [
    "from sklearn.metrics import precision_score, recall_score,f1_score\n",
    "\n",
    "print('Precision Score: ', str(precision_score(y_train_5,y_train_pred)))\n",
    "print('Recall Score: ', str(recall_score(y_train_5,y_train_pred)))\n",
    "print('F1 Score: ', str(f1_score(y_train_5,y_train_pred)))"
   ]
  },
  {
   "cell_type": "code",
   "execution_count": 46,
   "metadata": {},
   "outputs": [],
   "source": [
    "# Now let's visualize the precision-recall trade-off:\n",
    "\n",
    "y_scores = cross_val_predict(sgd,X_train,y_train_5, cv=3, method = 'decision_function')"
   ]
  },
  {
   "cell_type": "code",
   "execution_count": 67,
   "metadata": {},
   "outputs": [],
   "source": [
    "from sklearn.metrics import precision_recall_curve\n",
    "\n",
    "precisions,recalls,thresholds = precision_recall_curve(y_train_5,y_scores)"
   ]
  },
  {
   "cell_type": "code",
   "execution_count": 79,
   "metadata": {
    "scrolled": true
   },
   "outputs": [
    {
     "data": {
      "image/png": "[encoded data removed]",
      "text/plain": [
       "<Figure size 1080x360 with 2 Axes>"
      ]
     },
     "metadata": {
      "needs_background": "light"
     },
     "output_type": "display_data"
    }
   ],
   "source": [
    "plt.subplots(figsize=(15,5))\n",
    "plt.subplot(1,2,1)\n",
    "sns.lineplot(x = thresholds,y = precisions[:-1],color='b',label=\"Precision\")\n",
    "sns.lineplot(x = thresholds, y = recalls[:-1], color= 'g', label = \"Recall\")\n",
    "plt.legend()\n",
    "plt.xlim([-50000,50000])\n",
    "plt.xlabel('Threshold')\n",
    "\n",
    "#Let's choose 8000 as a threshold value\n",
    "thres = 8000\n",
    "thresh2 = (thresholds - thres)**2\n",
    "minval = min(thresh2)\n",
    "closest_idx = np.where(thresh2 == minval)\n",
    "\n",
    "plt.axvline(thres,color = 'r', alpha = 0.5);\n",
    "plt.axhline(precisions[closest_idx],color ='r', alpha = 0.5)\n",
    "plt.axhline(recalls[closest_idx], color = 'r', alpha = 0.5)\n",
    "plt.scatter(thres,precisions[closest_idx],color = 'r', s= 100)\n",
    "plt.scatter(thres,recalls[closest_idx],color = 'r', s= 100)\n",
    "\n",
    "plt.subplot(1,2,2)\n",
    "sns.lineplot(x = recalls, y = precisions, color = 'b')\n",
    "plt.axhline(precisions[closest_idx],color = 'r', alpha = 0.5)\n",
    "plt.axvline(recalls[closest_idx], color = 'r', alpha =0.5)\n",
    "plt.scatter(recalls[closest_idx],precisions[closest_idx],color = 'r', s=100)\n",
    "plt.xlabel('Recall')\n",
    "plt.ylabel('Precision');"
   ]
  },
  {
   "cell_type": "code",
   "execution_count": null,
   "metadata": {},
   "outputs": [],
   "source": []
  }
 ],
 "metadata": {
  "kernelspec": {
   "display_name": "Python 3",
   "language": "python",
   "name": "python3"
  },
  "language_info": {
   "codemirror_mode": {
    "name": "ipython",
    "version": 3
   },
   "file_extension": ".py",
   "mimetype": "text/x-python",
   "name": "python",
   "nbconvert_exporter": "python",
   "pygments_lexer": "ipython3",
   "version": "3.8.5"
  }
 },
 "nbformat": 4,
 "nbformat_minor": 4
}
